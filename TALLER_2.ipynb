{
  "cells": [
    {
      "cell_type": "markdown",
      "metadata": {
        "id": "view-in-github",
        "colab_type": "text"
      },
      "source": [
        "<a href=\"https://colab.research.google.com/github/venussar/Numerical-Representation-Errors-and-Stability/blob/main/TALLER_2.ipynb\" target=\"_parent\"><img src=\"https://colab.research.google.com/assets/colab-badge.svg\" alt=\"Open In Colab\"/></a>"
      ]
    },
    {
      "cell_type": "markdown",
      "id": "438920fb",
      "metadata": {
        "id": "438920fb"
      },
      "source": [
        "<a href=\"https://colab.research.google.com/github/danielruizm16/ComputationalMethods/blob/main/Numerical_Rep_Errors/Homework_2.ipynb\" target=\"_parent\"><img src=\"https://colab.research.google.com/assets/colab-badge.svg\" alt=\"Open In Colab\"/></a>"
      ]
    },
    {
      "cell_type": "markdown",
      "id": "e9c37ddb",
      "metadata": {
        "id": "e9c37ddb"
      },
      "source": [
        "# Homework 02: Numerical Representation, Errors and Stability..\n",
        "\n",
        "---\n",
        "### Teacher: Daniel Ruiz Mejía\n",
        "### Name: CAROLINA ANDREA RODAS CASTAÑEDA\n",
        "*Computational Methods 2025-II*\n",
        "\n",
        "---"
      ]
    },
    {
      "cell_type": "markdown",
      "id": "5b31a74f",
      "metadata": {
        "id": "5b31a74f"
      },
      "source": [
        "# 1.\n",
        "\n",
        "Create a function called `myint` that from a binary number with a 16-bit base finds the corresponding integer. Compare your result with `int(0b1000011100001)`"
      ]
    },
    {
      "cell_type": "code",
      "execution_count": null,
      "id": "3144b67d",
      "metadata": {
        "id": "3144b67d"
      },
      "outputs": [],
      "source": [
        "def myint(x):\n",
        "    suma = 0\n",
        "    potencia = len(x) - 1\n",
        "\n",
        "    for i in x:   # recorre cada dígito\n",
        "        suma += int(i) * 2**potencia\n",
        "        potencia -= 1  # vamos bajando la potencia en cada paso\n",
        "\n",
        "    return suma"
      ]
    },
    {
      "cell_type": "code",
      "source": [
        "myint(\"1000011100001\") # POR FAVOR INGRESAR EL BINARIO SIN EL OB"
      ],
      "metadata": {
        "id": "CXHP39CtItod",
        "outputId": "dbe91113-0506-4a69-b029-ad0e8d782263",
        "colab": {
          "base_uri": "https://localhost:8080/"
        }
      },
      "id": "CXHP39CtItod",
      "execution_count": null,
      "outputs": [
        {
          "output_type": "execute_result",
          "data": {
            "text/plain": [
              "4321"
            ]
          },
          "metadata": {},
          "execution_count": 12
        }
      ]
    },
    {
      "cell_type": "code",
      "source": [
        "int(0b1000011100001)"
      ],
      "metadata": {
        "id": "i8HtH7-9Ivu6",
        "outputId": "2e6e97d7-4abb-4406-8fe4-c07351873fa8",
        "colab": {
          "base_uri": "https://localhost:8080/"
        }
      },
      "id": "i8HtH7-9Ivu6",
      "execution_count": null,
      "outputs": [
        {
          "output_type": "execute_result",
          "data": {
            "text/plain": [
              "4321"
            ]
          },
          "metadata": {},
          "execution_count": 13
        }
      ]
    },
    {
      "cell_type": "markdown",
      "id": "54ef5020",
      "metadata": {
        "id": "54ef5020"
      },
      "source": [
        "# 2. Approximation of $\\pi$\n",
        "The Maclaurin series for the inverse tangent function converges for $-1 < x \\leq 1$ and is given by:\n",
        "\n",
        "$$\n",
        "\\arctan x = \\lim_{n \\to \\infty} P_n(x) = \\lim_{n \\to \\infty} \\sum_{i=1}^n (-1)^{i+1} \\frac{x^{2i-1}}{2i-1}\n",
        "$$\n",
        "\n",
        "- **Basic approximation**\n",
        "    - Using the fact that $\\tan(\\pi/4) = 1$, implement a Python function that calculates $4P_n(1)$ and determine the minimum number of terms $n$ needed so that $|4P_n(1) - \\pi| < 10^{-3}$. Compare your result with the $\\pi$ value from the numpy library.\n",
        "    - Requiring that the $\\pi$ value is within an error of $10^{-4}$. How many terms of the series would need to be added to achieve this precision? Implement a Python solution to find this value.\n",
        "\n",
        "- **Convergence improvement**\n",
        "    The previous method can be significantly improved using the identity:\n",
        "    $$\n",
        "    \\frac{\\pi}{4} = \\arctan\\left(\\frac{1}{2}\\right) + \\arctan\\left(\\frac{1}{3}\\right)\n",
        "    $$\n",
        "    - Implement a Python function that evaluates the series for $\\arctan(1/2)$ and $\\arctan(1/3)$ separately and then sums them. Determine the minimum number of terms needed for each series (they can be different) to approximate $\\pi$ with an error less than $10^{-3}$ and $10^{-6}$.\n",
        "\n",
        "- **High-precision method**\n",
        "    To obtain even faster convergence, use the identity:\n",
        "    $$\n",
        "    \\frac{\\pi}{4} = 4\\arctan\\left(\\frac{1}{5}\\right) - \\arctan\\left(\\frac{1}{239}\\right)\n",
        "    $$\n",
        "    - The minimum number of terms needed in each series to approximate $\\pi$ with error less than $10^{-3}$ and $10^{-6}$.\n",
        "    - Compare the performance (number of terms required) with the previous methods.\n",
        "\n"
      ]
    },
    {
      "cell_type": "code",
      "source": [
        "\n",
        "# Funcion\n",
        "def arctan_1(n):\n",
        "    resultado = 0\n",
        "    for i in range(1, n + 1):\n",
        "        termino = ((-1) ** (i + 1)) / (2 * i - 1)\n",
        "        resultado += termino\n",
        "    return resultado\n",
        "\n",
        "# Funcion 2\n",
        "def aproximar_pi(n):\n",
        "    return 4 * arctan_1(n)\n",
        "\n",
        "# Funcion que busca el numero minimo de terminos\n",
        "def encontrar_n_minimo(tolerancia):\n",
        "    pi_real = np.pi  # Valor real de pi\n",
        "    n = 1\n",
        "    while True:\n",
        "        pi_aprox = aproximar_pi(n)\n",
        "        error = abs(pi_aprox - pi_real)\n",
        "        if error < tolerancia:\n",
        "            return n, pi_aprox, error\n",
        "        n += 1\n"
      ],
      "metadata": {
        "id": "cDq57Y5XEMO5"
      },
      "id": "cDq57Y5XEMO5",
      "execution_count": null,
      "outputs": []
    },
    {
      "cell_type": "code",
      "source": [
        "# Probar con tolerancias 1e-3 y 1e-4\n",
        "for tol in [1e-3, 1e-4]:\n",
        "    n_terminos, pi_aprox, error = encontrar_n_minimo(tol)\n",
        "    print(f\"Terminos necesarios: {n_terminos}\")\n",
        "    print(f\"Aproximacion de pi: {pi_aprox}\")\n",
        "    print(f\"Error: {error}\")\n",
        "    print(\"-\" * 30)\n"
      ],
      "metadata": {
        "colab": {
          "base_uri": "https://localhost:8080/"
        },
        "id": "y7_x7t0FEXDf",
        "outputId": "6e6e7f35-e5c2-40d6-e5ab-eff4f0b13c14"
      },
      "id": "y7_x7t0FEXDf",
      "execution_count": null,
      "outputs": [
        {
          "output_type": "stream",
          "name": "stdout",
          "text": [
            "Terminos necesarios: 1000\n",
            "Aproximacion de pi: 3.140592653839794\n",
            "Error: 0.000999999749998981\n",
            "------------------------------\n",
            "Terminos necesarios: 10000\n",
            "Aproximacion de pi: 3.1414926535900345\n",
            "Error: 9.99999997586265e-05\n",
            "------------------------------\n"
          ]
        }
      ]
    },
    {
      "cell_type": "markdown",
      "source": [
        "La serie converge muy lento, o sea, necesita muchos términos para acercarse a PI"
      ],
      "metadata": {
        "id": "PuETVD76EcJ3"
      },
      "id": "PuETVD76EcJ3"
    },
    {
      "cell_type": "markdown",
      "source": [
        "OTRA FORMA"
      ],
      "metadata": {
        "id": "F-SCttvrFlSk"
      },
      "id": "F-SCttvrFlSk"
    },
    {
      "cell_type": "code",
      "source": [
        "def arctan(x, n):\n",
        "    suma = 0\n",
        "    for i in range(n):\n",
        "        termino = ((-1) ** i) * (x ** (2 * i + 1)) / (2 * i + 1)\n",
        "        suma += termino\n",
        "    return suma\n",
        "\n",
        "# Valor real de pi\n",
        "pi_real = np.pi\n",
        "\n",
        "# Elegimos una tolerancia\n",
        "tolerancia = 1e-3\n",
        "for n in range(1, 1000):\n",
        "    arctan_1_2 = arctan(1/2, n)\n",
        "    arctan_1_3 = arctan(1/3, n)\n",
        "    pi_aprox = 4 * (arctan_1_2 + arctan_1_3)\n",
        "    error = abs(pi_aprox - pi_real)\n",
        "\n",
        "    if error < tolerancia:\n",
        "        print(\"Terminos usados en cada serie:\", n)\n",
        "        print(\"Aproximacion de pi:\", pi_aprox)\n",
        "        print(\"Error:\", error)\n",
        "        break\n"
      ],
      "metadata": {
        "colab": {
          "base_uri": "https://localhost:8080/"
        },
        "id": "_NHoDX0yE-HB",
        "outputId": "8c49e7b4-ca0f-4a61-c29e-30d50f24bf6d"
      },
      "id": "_NHoDX0yE-HB",
      "execution_count": null,
      "outputs": [
        {
          "output_type": "stream",
          "name": "stdout",
          "text": [
            "Terminos usados en cada serie: 4\n",
            "Aproximacion de pi: 3.1408505617610554\n",
            "Error: 0.0007420918287377454\n"
          ]
        }
      ]
    },
    {
      "cell_type": "markdown",
      "source": [
        "Con solo 4 tErminos en cada serie ya conseguimos un error menor a 0.001 (el primer método necesito 1000 términos).\n",
        "\n",
        "La aproximación de pi es buena pero no del todo: 3.14085"
      ],
      "metadata": {
        "id": "pDm09a-PGorh"
      },
      "id": "pDm09a-PGorh"
    },
    {
      "cell_type": "code",
      "source": [
        "\n",
        "def arctan(x, n):\n",
        "    suma = 0\n",
        "    for i in range(n):\n",
        "        termino = ((-1) ** i) * (x ** (2 * i + 1)) / (2 * i + 1)\n",
        "        suma += termino\n",
        "    return suma\n",
        "\n",
        "# Valor real de pi\n",
        "pi_real = np.pi\n",
        "tolerancia = 1e-6\n",
        "\n",
        "for n in range(1, 1000):\n",
        "    a = arctan(1/5, n)\n",
        "    b = arctan(1/239, n)\n",
        "    pi_aprox = 4 * (4 * a - b)\n",
        "    error = abs(pi_aprox - pi_real)\n",
        "\n",
        "    if error < tolerancia:\n",
        "        print(\"Terminos usados en cada serie:\", n)\n",
        "        print(\"Aproximacion de pi:\", pi_aprox)\n",
        "        print(\"Error:\", error)\n",
        "        break"
      ],
      "metadata": {
        "colab": {
          "base_uri": "https://localhost:8080/"
        },
        "id": "IU6Hv8GmGG4W",
        "outputId": "9ab28514-b307-454b-a7b0-362992d0bad5"
      },
      "id": "IU6Hv8GmGG4W",
      "execution_count": null,
      "outputs": [
        {
          "output_type": "stream",
          "name": "stdout",
          "text": [
            "Terminos usados en cada serie: 4\n",
            "Aproximacion de pi: 3.1415917721821773\n",
            "Error: 8.814076157825923e-07\n"
          ]
        }
      ]
    },
    {
      "cell_type": "markdown",
      "source": [
        "Con solo 4 términos en cada serie se logra un error menor a 1e-6, o sea, una aproximación super precisa.\n",
        "La aproximación obtenida es 3.14159177, que es casi igual a pi (3.14159265). este metodo converge muy rápido y necesita muy pocos términos para mucha precision\n",
        "\n",
        "En comparación con los otros metodos, es el mss eficiente y rápido para calcular pi con buena exactitud."
      ],
      "metadata": {
        "id": "XlpO6HNLHPvs"
      },
      "id": "XlpO6HNLHPvs"
    },
    {
      "cell_type": "markdown",
      "id": "ee226b69",
      "metadata": {
        "id": "ee226b69"
      },
      "source": [
        "# 3. Exponential Series\n",
        "Consider the series for $e^{-x}$\n",
        "$$\n",
        "e^{-x}=\\sum_{n=0}^{N}  (-1)^n \\frac{x^{n}}{n!}\n",
        "$$\n",
        "- Calculate the series for $x \\leq 1$ and compare it with the function np.exp(-x) (assume the exponential from numpy is exact function is exact). Choose an $N$ for which the next term in the series is no more than $10^{-7}$ of the sum up to that point.\n",
        "$$\n",
        "\\left| \\frac{(-x)^{N+1}}{(N+1)!} \\right | \\le \\left| 10^{-7} \\sum_{N=0}^{N} \\frac{(-x)^{n}}{n!} \\right|\n",
        "$$\n",
        "- Examine the terms of the series for $x \\approx 10$ and observe the significant subtractive cancellations that occur when large terms are added to give small answers. In particular, print the near-perfect cancellation at $n \\approx x - 1$.\n",
        "- Check if better precision is obtained by being clever and using $e^{-x} = \\frac{1}{e^x}$ for large values of $x$. This eliminates subtractive cancellation but does not eliminate all rounding errors.\n",
        "- Progressively increasing $x$ from 1 to 10, and then from 10 to 100, use the program to experimentally determine when the series begins to lose precision, and when the series no longer converges.\n",
        "- Create a series of plots of error versus $N$ for different values of $x$.\n"
      ]
    },
    {
      "cell_type": "code",
      "source": [
        "import math\n",
        "import numpy as np\n",
        "\n",
        "def exp(x):\n",
        "    suma = 0.0\n",
        "    i = 0\n",
        "\n",
        "    while True: #bucle infinito\n",
        "        termino = ((-1)**i) * (x**i) / math.factorial(i)\n",
        "        suma += termino\n",
        "\n",
        "        siguiente = ((-1)**(i+1)) * (x**(i+1)) / math.factorial(i+1) # calcular el siguiente termino\n",
        "\n",
        "        if abs(siguiente) <= 1e-7 * abs(suma):  # condicion de parada\n",
        "            break\n",
        "\n",
        "        i += 1\n",
        "\n",
        "\n",
        "    real = np.exp(-x)    # valor exacto\n",
        "\n",
        "    error_abs = abs(suma - real)      # errores\n",
        "    error_rel = error_abs / abs(real)\n",
        "\n",
        "    return print(\"la suma con la serie es:\", suma,\n",
        "                 \"la suma real es: \", real,\n",
        "                 \"el error absoluto es: \", error_abs,\n",
        "                 \"el error relativo es: \",error_rel,\n",
        "                 \"el numero de iteraciones fueron :\", i)\n"
      ],
      "metadata": {
        "id": "KwyO-TlPW6oG"
      },
      "id": "KwyO-TlPW6oG",
      "execution_count": null,
      "outputs": []
    },
    {
      "cell_type": "code",
      "source": [
        "exp(10)"
      ],
      "metadata": {
        "colab": {
          "base_uri": "https://localhost:8080/"
        },
        "id": "9KswPaBLMHV1",
        "outputId": "bd9e25ee-0850-4fc5-d49c-640730be237e"
      },
      "id": "9KswPaBLMHV1",
      "execution_count": null,
      "outputs": [
        {
          "output_type": "stream",
          "name": "stdout",
          "text": [
            "la suma con la serie es: 4.539992793609265e-05 la suma real es:  4.5399929762484854e-05 el error absoluto es:  1.8263922072305795e-12 el error relativo es:  4.0228965480465895e-08 el numero de iteraciones fueron : 45\n"
          ]
        }
      ]
    },
    {
      "cell_type": "markdown",
      "source": [
        "Si vamos cambiando los valores de exp, podemos ver que entre menor sea el x mas rapido converge, en 1.0 que es la valor mayor converge con n=10 y en 0.1 con n=4"
      ],
      "metadata": {
        "id": "gGhZl6J_4DM2"
      },
      "id": "gGhZl6J_4DM2"
    },
    {
      "cell_type": "code",
      "source": [
        "\n",
        "x = 10\n",
        "N = 20  # cantidad de términos a mostrar\n",
        "for n in range(N+1):\n",
        "    termino = ((-1)**n) * (x**n) / math.factorial(n)\n",
        "    print( n, termino, abs(termino))"
      ],
      "metadata": {
        "colab": {
          "base_uri": "https://localhost:8080/"
        },
        "id": "IXTQP58Wh-8R",
        "outputId": "db9e1040-d3e9-438a-bc0a-e7fb0c158d63"
      },
      "id": "IXTQP58Wh-8R",
      "execution_count": null,
      "outputs": [
        {
          "output_type": "stream",
          "name": "stdout",
          "text": [
            "0 1.0 1.0\n",
            "1 -10.0 10.0\n",
            "2 50.0 50.0\n",
            "3 -166.66666666666666 166.66666666666666\n",
            "4 416.6666666666667 416.6666666666667\n",
            "5 -833.3333333333334 833.3333333333334\n",
            "6 1388.888888888889 1388.888888888889\n",
            "7 -1984.126984126984 1984.126984126984\n",
            "8 2480.15873015873 2480.15873015873\n",
            "9 -2755.731922398589 2755.731922398589\n",
            "10 2755.731922398589 2755.731922398589\n",
            "11 -2505.210838544172 2505.210838544172\n",
            "12 2087.67569878681 2087.67569878681\n",
            "13 -1605.9043836821616 1605.9043836821616\n",
            "14 1147.0745597729724 1147.0745597729724\n",
            "15 -764.7163731819817 764.7163731819817\n",
            "16 477.9477332387385 477.9477332387385\n",
            "17 -281.14572543455205 281.14572543455205\n",
            "18 156.19206968586226 156.19206968586226\n",
            "19 -82.2063524662433 82.2063524662433\n",
            "20 41.10317623312165 41.10317623312165\n"
          ]
        }
      ]
    },
    {
      "cell_type": "markdown",
      "source": [
        "para x grandes como 10 la serie primero crece mucho antes de decrecer:"
      ],
      "metadata": {
        "id": "bC4lY-7e7mHS"
      },
      "id": "bC4lY-7e7mHS"
    },
    {
      "cell_type": "code",
      "source": [
        "\n",
        "\n",
        "def inverso(x, tol=1e-7):\n",
        "\n",
        "    suma = 0.0\n",
        "    i = 0\n",
        "    while True:\n",
        "        termino = (x**i) / math.factorial(i)\n",
        "        suma += termino\n",
        "\n",
        "        if abs(termino) < tol * abs(suma):    # condición de parada\n",
        "            break\n",
        "        i += 1\n",
        "    return 1/suma\n"
      ],
      "metadata": {
        "id": "yBWelBfi56xl"
      },
      "id": "yBWelBfi56xl",
      "execution_count": null,
      "outputs": []
    },
    {
      "cell_type": "code",
      "source": [
        "inverso(100)"
      ],
      "metadata": {
        "id": "hZuNdL76bmcM",
        "colab": {
          "base_uri": "https://localhost:8080/"
        },
        "outputId": "a70eca31-a040-4e55-a832-9ab9866949d5"
      },
      "id": "hZuNdL76bmcM",
      "execution_count": null,
      "outputs": [
        {
          "output_type": "execute_result",
          "data": {
            "text/plain": [
              "3.7200764771636094e-44"
            ]
          },
          "metadata": {},
          "execution_count": 22
        }
      ]
    },
    {
      "cell_type": "markdown",
      "source": [
        "nunca hubo cancelación de términos grandes (todos los términos eran positivos)."
      ],
      "metadata": {
        "id": "ulaTilvi-Cjj"
      },
      "id": "ulaTilvi-Cjj"
    },
    {
      "cell_type": "code",
      "source": [
        "exp(100)"
      ],
      "metadata": {
        "colab": {
          "base_uri": "https://localhost:8080/"
        },
        "id": "2nbFJWoX98xv",
        "outputId": "ccfd9b49-abf4-41fe-9a16-5b04d17e1b5f"
      },
      "id": "2nbFJWoX98xv",
      "execution_count": null,
      "outputs": [
        {
          "output_type": "stream",
          "name": "stdout",
          "text": [
            "la suma con la serie es: -2.875658396235057e+26 la suma real es:  3.720075976020836e-44 el error absoluto es:  2.875658396235057e+26 el error relativo es:  7.730106628926953e+69 el numero de iteraciones fueron : 217\n"
          ]
        }
      ]
    },
    {
      "cell_type": "markdown",
      "source": [
        "Como podemos observar el metodo directo cuando x es muy grande muestra un valor muy alejado al valor real, falla demasiado. mientras que el inverso se mantiene muy estable porque no hay cancelaciones. Apartir de n=20 el metodo directo ya no es capaz de aproximar el valor real,  mientras que para el metodo inverso n=100 funciona a un bastante bien"
      ],
      "metadata": {
        "id": "qs0ODUTL9SNN"
      },
      "id": "qs0ODUTL9SNN"
    },
    {
      "cell_type": "code",
      "source": [
        "import math\n",
        "import numpy as np\n",
        "import matplotlib.pyplot as plt\n",
        "\n",
        "def exp_aprox(x, N):\n",
        "\n",
        "    #Calcula la aproximacion de e^{-x} usando N terminos de la serie\n",
        "\n",
        "    suma = 0.0\n",
        "    for i in range(N+1):\n",
        "        termino = ((-1)**i) * (x**i) / math.factorial(i)\n",
        "        suma += termino\n",
        "    return suma\n",
        "\n",
        "# valores de x para probar\n",
        "valores_x = [1, 5, 10, 20]\n",
        "N_max = 50\n",
        "\n",
        "plt.figure(figsize=(8,6))\n",
        "for x in valores_x:\n",
        "    errores = []           # lista para guardar los errores\n",
        "    Ns = range(1, N_max+1) # cantidad de terminos usados\n",
        "\n",
        "    for N in Ns:\n",
        "        aproximado = exp_aprox(x, N) # calcular la aproximacion con N terminos\n",
        "\n",
        "        # valor real con numpy\n",
        "        real = np.exp(-x)\n",
        "\n",
        "        # calcular el error absoluto\n",
        "        error = abs(aproximado - real)\n",
        "\n",
        "        # guardar el error en la lista\n",
        "        errores.append(error)\n",
        "\n",
        "    plt.plot(Ns, errores, label=f\"x = {x}\")\n",
        "\n",
        "plt.yscale(\"log\")  # escala logaritmica\n",
        "plt.xlabel(\"N\")\n",
        "plt.ylabel(\"Error absoluto\")\n",
        "plt.title(\"Error vs N para diferentes valores de x usando e**{-x}\")\n",
        "plt.legend()\n",
        "plt.show()\n"
      ],
      "metadata": {
        "colab": {
          "base_uri": "https://localhost:8080/",
          "height": 564
        },
        "id": "wlJ7ssJe0YFz",
        "outputId": "0b722113-d625-4ed6-a6c9-a547947c1372"
      },
      "id": "wlJ7ssJe0YFz",
      "execution_count": null,
      "outputs": [
        {
          "output_type": "display_data",
          "data": {
            "text/plain": [
              "<Figure size 800x600 with 1 Axes>"
            ],
            "image/png": "[encoded data removed]"
          },
          "metadata": {}
        }
      ]
    },
    {
      "cell_type": "markdown",
      "id": "0ac68396",
      "metadata": {
        "id": "0ac68396"
      },
      "source": [
        "# 4.\n",
        "Write a program to compute the absolute and relative errors in Stirling's approximation\n",
        "\n",
        "$$\n",
        "n! \\approx \\sqrt{2\\pi n} \\, (n/e)^n\n",
        "$$\n",
        "\n",
        "for $n = 1, \\ldots, 10 $. Does the absolute error grow or shrink as $n$ increases? Does the relative error grow or shrink as $n$ increases?"
      ]
    },
    {
      "cell_type": "code",
      "execution_count": null,
      "id": "d111401f",
      "metadata": {
        "id": "d111401f",
        "colab": {
          "base_uri": "https://localhost:8080/"
        },
        "outputId": "0a31bb98-e56c-4314-ddef-fd8370221906"
      },
      "outputs": [
        {
          "output_type": "stream",
          "name": "stdout",
          "text": [
            "n = 1\n",
            "Factorial real     = 1\n",
            "Aproximacion Stirling = 0.9221370088957891\n",
            "Error absoluto     = 0.07786299110421091\n",
            "Error relativo     = 0.07786299110421091\n",
            "------------------------------\n",
            "n = 2\n",
            "Factorial real     = 2\n",
            "Aproximacion Stirling = 1.9190043514889832\n",
            "Error absoluto     = 0.08099564851101682\n",
            "Error relativo     = 0.04049782425550841\n",
            "------------------------------\n",
            "n = 3\n",
            "Factorial real     = 6\n",
            "Aproximacion Stirling = 5.836209591345864\n",
            "Error absoluto     = 0.16379040865413597\n",
            "Error relativo     = 0.027298401442355995\n",
            "------------------------------\n",
            "n = 4\n",
            "Factorial real     = 24\n",
            "Aproximacion Stirling = 23.506175132893294\n",
            "Error absoluto     = 0.4938248671067065\n",
            "Error relativo     = 0.020576036129446102\n",
            "------------------------------\n",
            "n = 5\n",
            "Factorial real     = 120\n",
            "Aproximacion Stirling = 118.0191679575901\n",
            "Error absoluto     = 1.9808320424099009\n",
            "Error relativo     = 0.016506933686749173\n",
            "------------------------------\n",
            "n = 6\n",
            "Factorial real     = 720\n",
            "Aproximacion Stirling = 710.078184642185\n",
            "Error absoluto     = 9.921815357815035\n",
            "Error relativo     = 0.013780299108076438\n",
            "------------------------------\n",
            "n = 7\n",
            "Factorial real     = 5040\n",
            "Aproximacion Stirling = 4980.395831612462\n",
            "Error absoluto     = 59.604168387538266\n",
            "Error relativo     = 0.011826223886416323\n",
            "------------------------------\n",
            "n = 8\n",
            "Factorial real     = 40320\n",
            "Aproximacion Stirling = 39902.39545265671\n",
            "Error absoluto     = 417.6045473432896\n",
            "Error relativo     = 0.010357255638474444\n",
            "------------------------------\n",
            "n = 9\n",
            "Factorial real     = 362880\n",
            "Aproximacion Stirling = 359536.87284194835\n",
            "Error absoluto     = 3343.1271580516477\n",
            "Error relativo     = 0.009212762230080598\n",
            "------------------------------\n",
            "n = 10\n",
            "Factorial real     = 3628800\n",
            "Aproximacion Stirling = 3598695.6187410373\n",
            "Error absoluto     = 30104.381258962676\n",
            "Error relativo     = 0.008295960443938127\n",
            "------------------------------\n"
          ]
        }
      ],
      "source": [
        "\n",
        "def stirling(n):\n",
        "    return math.sqrt(2 * math.pi * n) * (n / math.e) ** n\n",
        "\n",
        "for n in range(1, 11):\n",
        "    real = math.factorial(n)         # factorial real de n\n",
        "    approx = stirling(n)             # aproximacion de Stirling\n",
        "\n",
        "    abs_error = abs(real - approx)   # error absoluto\n",
        "    rel_error = abs_error / real     # error relativo\n",
        "\n",
        "    # Imprimir resultados\n",
        "    print(f\"n = {n}\")\n",
        "    print(f\"Factorial real     = {real}\")\n",
        "    print(f\"Aproximacion Stirling = {approx}\")\n",
        "    print(f\"Error absoluto     = {abs_error}\")\n",
        "    print(f\"Error relativo     = {rel_error}\")\n",
        "    print(\"-\" * 30)\n"
      ]
    },
    {
      "cell_type": "markdown",
      "source": [
        "Cuando usamos la formula de Stirling para aproximar el factorial, me di cuenta de que:\n",
        "\n",
        "El error absoluto (o sea, la diferencia entre el valor real y el aproximado) se hace mas grande cuando n aunmenta porque los factoriales crecen muy rapido y entonces la diferencia tambien.\n",
        "\n",
        "Pero el error relativo (o sea, cuan grande es el error comparado con el resultado real) se hace mas pequeño a medida que\n",
        "n crece. Esto quiere decir que, aunque el error es mas grande en numeros grandes, ese error importa menos en comparacion con el numero total.\n",
        "\n",
        "Entonces, la formula de Stirling no es tan buena para numeros pequeños como 1, 2 o 3, pero sirve muy bien para numeros grandes. Aunque no te da el resultado exacto, te da un valor muy cercano, lo cual es util cuando no necesitas tanta precision o cuando calcular el factorial real es muy complicado."
      ],
      "metadata": {
        "id": "DB2WHe1y51N3"
      },
      "id": "DB2WHe1y51N3"
    },
    {
      "cell_type": "markdown",
      "id": "666606eb",
      "metadata": {
        "id": "666606eb"
      },
      "source": [
        "# 5.\n",
        "Consider a quadratic equation $ ax^2 + bx + c = 0 $ that has real solutions.\n",
        "\n",
        "- Write a program that takes as input three numbers, $a$, $b$, and $c$, and prints out the two solutions to the quadratic equation $ ax^2 + bx + c = 0 $ using the standard formula  \n",
        "    $$\n",
        "    x = \\frac{-b \\pm \\sqrt{b^2 - 4ac}}{2a}.\n",
        "    $$\n",
        "\n",
        "    Use your program to compute the solutions of $ 0.001x^2 + 1000x + 0.001 = 0 $.\n",
        "\n",
        "- There is another way to write the solutions to a quadratic equation. Multiplying top and bottom of the solution above by $-b \\mp \\sqrt{b^2 - 4ac}$, the solutions can also be written as  \n",
        "    $$\n",
        "    x = \\frac{2c}{-b \\mp \\sqrt{b^2 - 4ac}}.\n",
        "    $$\n",
        "\n",
        "    Add further lines to your program to print these values in addition to the earlier ones and again use the program to solve $ 0.001x^2 + 1000x + 0.001 = 0 $. What do you see? How do you explain it?\n",
        "\n",
        "- Using what you have learned, write a new program that calculates both roots of a quadratic equation accurately in all cases."
      ]
    },
    {
      "cell_type": "code",
      "source": [
        "############VALOR\n",
        "\n",
        "import numpy as np\n",
        "\n",
        "a, b, c = 0.001, 1000, 0.001\n",
        "raices = np.roots([a, b, c])\n",
        "print(raices)\n"
      ],
      "metadata": {
        "colab": {
          "base_uri": "https://localhost:8080/"
        },
        "id": "4AR4BS73RKhh",
        "outputId": "575d0a08-31fb-401a-af03-067e6640d829"
      },
      "id": "4AR4BS73RKhh",
      "execution_count": null,
      "outputs": [
        {
          "output_type": "stream",
          "name": "stdout",
          "text": [
            "[-1.e+06 -1.e-06]\n"
          ]
        }
      ]
    },
    {
      "cell_type": "code",
      "execution_count": null,
      "id": "44026de3",
      "metadata": {
        "id": "44026de3"
      },
      "outputs": [],
      "source": [
        "def cuadratica(a,b,c):\n",
        "  x=(-b+((b**2)-(4*a*c))**0.5)/(2*a)\n",
        "  y=(-b-((b**2)-(4*a*c))**0.5)/(2*a)\n",
        "  return x,y\n"
      ]
    },
    {
      "cell_type": "code",
      "source": [
        "cuadratica(0.001,1000,0.001)"
      ],
      "metadata": {
        "colab": {
          "base_uri": "https://localhost:8080/"
        },
        "id": "7S6g2YcKHPcl",
        "outputId": "1a20d353-f032-42b8-9a25-60b5ffb52f7d"
      },
      "id": "7S6g2YcKHPcl",
      "execution_count": null,
      "outputs": [
        {
          "output_type": "execute_result",
          "data": {
            "text/plain": [
              "(-9.999894245993346e-07, -999999.999999)"
            ]
          },
          "metadata": {},
          "execution_count": 36
        }
      ]
    },
    {
      "cell_type": "markdown",
      "source": [
        "Podemos observar que el resultado de y se aproxima bastante al valor real, a diferencia del resultado de x que da un valor incorrecto, deberia acercarse a 0 por la izquierda\n"
      ],
      "metadata": {
        "id": "F0HIH8dTSZXR"
      },
      "id": "F0HIH8dTSZXR"
    },
    {
      "cell_type": "code",
      "source": [
        "def cuadratica2(a,b,c):\n",
        "  x = (2*c)/(-b + ((b**2 - 4*a*c)**0.5))\n",
        "  y = (2*c)/(-b - ((b**2 - 4*a*c)**0.5))\n",
        "  return x, y\n"
      ],
      "metadata": {
        "id": "cKzoP_vZO0VZ"
      },
      "id": "cKzoP_vZO0VZ",
      "execution_count": null,
      "outputs": []
    },
    {
      "cell_type": "code",
      "source": [
        "cuadratica2(0.001,1000,0.001)"
      ],
      "metadata": {
        "colab": {
          "base_uri": "https://localhost:8080/"
        },
        "id": "djY-AWYDMWLe",
        "outputId": "6c708fd0-65f8-43dd-be13-8da74ce6a304"
      },
      "id": "djY-AWYDMWLe",
      "execution_count": null,
      "outputs": [
        {
          "output_type": "execute_result",
          "data": {
            "text/plain": [
              "(-1000010.5755125057, -1.000000000001e-06)"
            ]
          },
          "metadata": {},
          "execution_count": 30
        }
      ]
    },
    {
      "cell_type": "markdown",
      "source": [
        "aca tenemos el mismo caso pero al reves, el termino x da un valor muy alejado al real en cambio el temrino y se aproxima bastante al esperado"
      ],
      "metadata": {
        "id": "B1Ngcwh1TUhw"
      },
      "id": "B1Ngcwh1TUhw"
    },
    {
      "cell_type": "markdown",
      "source": [
        "El contraste entre las raíces tan grandes y tan pequeñas es justamente lo que causa el problema de pérdida de precisión. La pérdida de precisión ocurre cuando en la fórmula cuadrática restas dos números muy grandes y casi iguales; la computadora pierde los decimales pequeños que marcan la diferencia."
      ],
      "metadata": {
        "id": "udPISDLVTqks"
      },
      "id": "udPISDLVTqks"
    },
    {
      "cell_type": "code",
      "source": [
        "import numpy as np\n",
        "\n",
        "def cuadratica_precisa(a, b, c):\n",
        "    # calculamos el discriminante\n",
        "    d = b**2 - 4*a*c\n",
        "    raiz_d = np.sqrt(d)\n",
        "\n",
        "    # si b es positivo usamos una forma\n",
        "    # si b es negativo usamos la otra\n",
        "    if b > 0:\n",
        "        x1 = (-b - raiz_d) / (2*a)\n",
        "    else:\n",
        "        x1 = (-b + raiz_d) / (2*a)\n",
        "\n",
        "    # usamos la relacion x1 * x2 = c / a para sacar la segunda raiz\n",
        "    x2 = c / (a * x1)\n",
        "\n",
        "    return x1, x2\n",
        "\n",
        "\n",
        "# probamos el programa con los valores\n",
        "a = 0.001\n",
        "b = 1000\n",
        "c = 0.001\n",
        "\n",
        "r1, r2 = cuadratica_precisa(a, b, c)\n",
        "\n",
        "print(\"Raiz 1:\", r1)\n",
        "print(\"Raiz 2:\", r2)\n",
        "\n",
        "# ahora comparamos con la funcion de numpy que hace lo mismo\n",
        "raices_numpy = np.roots([a, b, c])\n",
        "print(\"Raices con numpy:\", raices_numpy)\n"
      ],
      "metadata": {
        "colab": {
          "base_uri": "https://localhost:8080/"
        },
        "id": "MypBHOnqvpBa",
        "outputId": "1ac9bd3f-5f9e-4d20-9b51-f27049d541c2"
      },
      "id": "MypBHOnqvpBa",
      "execution_count": null,
      "outputs": [
        {
          "output_type": "stream",
          "name": "stdout",
          "text": [
            "Raiz 1: -999999.999999\n",
            "Raiz 2: -1.000000000001e-06\n",
            "Raices con numpy: [-1.e+06 -1.e-06]\n"
          ]
        }
      ]
    },
    {
      "cell_type": "markdown",
      "source": [
        "-999999.999999 ≈ -1.0 × e6\n",
        "\n",
        "-1.000000000001e-06 ≈ -0.000001\n",
        "\n",
        "las dos coinciden con las raices que devuelve numpy, solo cambian en las ultimas cifras decimales"
      ],
      "metadata": {
        "id": "qCYSY8Gnv6Zu"
      },
      "id": "qCYSY8Gnv6Zu"
    }
  ],
  "metadata": {
    "kernelspec": {
      "display_name": "3.12.6",
      "language": "python",
      "name": "python3"
    },
    "language_info": {
      "name": "python",
      "version": "3.12.6"
    },
    "colab": {
      "provenance": [],
      "include_colab_link": true
    }
  },
  "nbformat": 4,
  "nbformat_minor": 5
}